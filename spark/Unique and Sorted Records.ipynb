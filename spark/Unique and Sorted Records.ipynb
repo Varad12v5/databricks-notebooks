{
 "cells": [
  {
   "cell_type": "code",
   "execution_count": 0,
   "metadata": {
    "application/vnd.databricks.v1+cell": {
     "cellMetadata": {
      "byteLimit": 2048000,
      "rowLimit": 10000
     },
     "inputWidgets": {},
     "nuid": "cd5419c3-00fa-4933-b03e-c8fa4a04fad1",
     "showTitle": false,
     "tableResultSettingsMap": {},
     "title": ""
    }
   },
   "outputs": [],
   "source": [
    "from pyspark.sql.functions import *\n",
    "from pyspark.sql.types import *"
   ]
  },
  {
   "cell_type": "code",
   "execution_count": 0,
   "metadata": {
    "application/vnd.databricks.v1+cell": {
     "cellMetadata": {
      "byteLimit": 2048000,
      "rowLimit": 10000
     },
     "inputWidgets": {},
     "nuid": "e5fd3b63-27cc-40f6-9634-7e8e617cbcdb",
     "showTitle": false,
     "tableResultSettingsMap": {},
     "title": ""
    }
   },
   "outputs": [],
   "source": [
    "data = [\n",
    "    (10 ,'Anil',50000, 18),\n",
    "    (11 ,'Vikas',75000, 16),\n",
    "    (12 ,'Nisha',40000, 18),\n",
    "    (13 ,'Nidhi',60000, 17),\n",
    "    (14 ,'Priya',80000, 18),\n",
    "    (15 ,'Mohit',45000, 18),\n",
    "    (16 ,'Rajesh',90000, 10),\n",
    "    (17 ,'Raman',55000, 16),\n",
    "    (18 ,'Sam',65000, 17),\n",
    "    (15 ,'Mohit',45000, 18),\n",
    "    (13 ,'Nidhi',60000, 17),\n",
    "    (14 ,'Priya',90000, 18),\n",
    "    (18 ,'Sam',65000, 17)\n",
    "]\n",
    "\n",
    "# Define schema\n",
    "columns = [\"emp_id\", \"name\", \"salary\", \"age\"]\n",
    "\n",
    "# Create DataFrame\n",
    "manager_df = spark.createDataFrame(data, schema=columns)\n"
   ]
  },
  {
   "cell_type": "code",
   "execution_count": 0,
   "metadata": {
    "application/vnd.databricks.v1+cell": {
     "cellMetadata": {
      "byteLimit": 2048000,
      "rowLimit": 10000
     },
     "inputWidgets": {},
     "nuid": "180a83b0-a09f-411b-8bf3-5bf05620974a",
     "showTitle": false,
     "tableResultSettingsMap": {},
     "title": ""
    }
   },
   "outputs": [
    {
     "output_type": "stream",
     "name": "stdout",
     "output_type": "stream",
     "text": [
      "+------+------+------+---+\n|emp_id|  name|salary|age|\n+------+------+------+---+\n|    10|  Anil| 50000| 18|\n|    11| Vikas| 75000| 16|\n|    12| Nisha| 40000| 18|\n|    13| Nidhi| 60000| 17|\n|    14| Priya| 80000| 18|\n|    15| Mohit| 45000| 18|\n|    16|Rajesh| 90000| 10|\n|    17| Raman| 55000| 16|\n|    18|   Sam| 65000| 17|\n|    15| Mohit| 45000| 18|\n|    13| Nidhi| 60000| 17|\n|    14| Priya| 90000| 18|\n|    18|   Sam| 65000| 17|\n+------+------+------+---+\n\n"
     ]
    }
   ],
   "source": [
    "manager_df.show()"
   ]
  },
  {
   "cell_type": "code",
   "execution_count": 0,
   "metadata": {
    "application/vnd.databricks.v1+cell": {
     "cellMetadata": {
      "byteLimit": 2048000,
      "rowLimit": 10000
     },
     "inputWidgets": {},
     "nuid": "8b5f6eb8-18d4-4293-bc7f-bd0a8c74c92d",
     "showTitle": false,
     "tableResultSettingsMap": {},
     "title": ""
    }
   },
   "outputs": [
    {
     "output_type": "execute_result",
     "data": {
      "text/plain": [
       "13"
      ]
     },
     "execution_count": 7,
     "metadata": {},
     "output_type": "execute_result"
    }
   ],
   "source": [
    "manager_df.count()"
   ]
  },
  {
   "cell_type": "code",
   "execution_count": 0,
   "metadata": {
    "application/vnd.databricks.v1+cell": {
     "cellMetadata": {
      "byteLimit": 2048000,
      "rowLimit": 10000
     },
     "inputWidgets": {},
     "nuid": "3414a050-fa81-40b3-a188-759e7a369051",
     "showTitle": false,
     "tableResultSettingsMap": {},
     "title": ""
    }
   },
   "outputs": [
    {
     "output_type": "execute_result",
     "data": {
      "text/plain": [
       "10"
      ]
     },
     "execution_count": 8,
     "metadata": {},
     "output_type": "execute_result"
    }
   ],
   "source": [
    "manager_df.distinct().count()"
   ]
  },
  {
   "cell_type": "code",
   "execution_count": 0,
   "metadata": {
    "application/vnd.databricks.v1+cell": {
     "cellMetadata": {
      "byteLimit": 2048000,
      "rowLimit": 10000
     },
     "inputWidgets": {},
     "nuid": "cb21063c-68be-4d6b-b26b-d3a464f7fcc0",
     "showTitle": false,
     "tableResultSettingsMap": {},
     "title": ""
    }
   },
   "outputs": [
    {
     "output_type": "stream",
     "name": "stdout",
     "output_type": "stream",
     "text": [
      "+------+------+\n|emp_id|  name|\n+------+------+\n|    10|  Anil|\n|    11| Vikas|\n|    12| Nisha|\n|    13| Nidhi|\n|    14| Priya|\n|    15| Mohit|\n|    16|Rajesh|\n|    17| Raman|\n|    18|   Sam|\n+------+------+\n\n"
     ]
    }
   ],
   "source": [
    "manager_df.select(\"emp_id\",\"name\").distinct().show()"
   ]
  },
  {
   "cell_type": "code",
   "execution_count": 0,
   "metadata": {
    "application/vnd.databricks.v1+cell": {
     "cellMetadata": {
      "byteLimit": 2048000,
      "rowLimit": 10000
     },
     "inputWidgets": {},
     "nuid": "f31447a9-2365-4f77-b6bb-bda12d8cc21b",
     "showTitle": false,
     "tableResultSettingsMap": {},
     "title": ""
    }
   },
   "outputs": [],
   "source": [
    "dropped_manager_df=manager_df.dropDuplicates()"
   ]
  },
  {
   "cell_type": "code",
   "execution_count": 0,
   "metadata": {
    "application/vnd.databricks.v1+cell": {
     "cellMetadata": {
      "byteLimit": 2048000,
      "rowLimit": 10000
     },
     "inputWidgets": {},
     "nuid": "a3028607-04cf-43e7-a9f2-886953535bd6",
     "showTitle": false,
     "tableResultSettingsMap": {},
     "title": ""
    }
   },
   "outputs": [
    {
     "output_type": "stream",
     "name": "stdout",
     "output_type": "stream",
     "text": [
      "+------+------+------+---+\n|emp_id|  name|salary|age|\n+------+------+------+---+\n|    10|  Anil| 50000| 18|\n|    11| Vikas| 75000| 16|\n|    12| Nisha| 40000| 18|\n|    13| Nidhi| 60000| 17|\n|    14| Priya| 80000| 18|\n|    15| Mohit| 45000| 18|\n|    16|Rajesh| 90000| 10|\n|    17| Raman| 55000| 16|\n|    18|   Sam| 65000| 17|\n|    14| Priya| 90000| 18|\n+------+------+------+---+\n\n"
     ]
    }
   ],
   "source": [
    "dropped_manager_df.show()"
   ]
  },
  {
   "cell_type": "code",
   "execution_count": 0,
   "metadata": {
    "application/vnd.databricks.v1+cell": {
     "cellMetadata": {
      "byteLimit": 2048000,
      "rowLimit": 10000
     },
     "inputWidgets": {},
     "nuid": "60d4f5af-90b6-4be1-af9b-df0466b46b3b",
     "showTitle": false,
     "tableResultSettingsMap": {},
     "title": ""
    }
   },
   "outputs": [
    {
     "output_type": "stream",
     "name": "stdout",
     "output_type": "stream",
     "text": [
      "+------+------+------+---+\n|emp_id|  name|salary|age|\n+------+------+------+---+\n|    12| Nisha| 40000| 18|\n|    15| Mohit| 45000| 18|\n|    10|  Anil| 50000| 18|\n|    17| Raman| 55000| 16|\n|    13| Nidhi| 60000| 17|\n|    18|   Sam| 65000| 17|\n|    11| Vikas| 75000| 16|\n|    14| Priya| 80000| 18|\n|    16|Rajesh| 90000| 10|\n|    14| Priya| 90000| 18|\n+------+------+------+---+\n\n"
     ]
    }
   ],
   "source": [
    "dropped_manager_df.sort(col(\"salary\")).show()"
   ]
  },
  {
   "cell_type": "code",
   "execution_count": 0,
   "metadata": {
    "application/vnd.databricks.v1+cell": {
     "cellMetadata": {
      "byteLimit": 2048000,
      "rowLimit": 10000
     },
     "inputWidgets": {},
     "nuid": "97727ace-b7a0-41e7-99c7-23cda4627380",
     "showTitle": false,
     "tableResultSettingsMap": {},
     "title": ""
    }
   },
   "outputs": [
    {
     "output_type": "stream",
     "name": "stdout",
     "output_type": "stream",
     "text": [
      "+------+------+------+---+\n|emp_id|  name|salary|age|\n+------+------+------+---+\n|    16|Rajesh| 90000| 10|\n|    14| Priya| 90000| 18|\n|    14| Priya| 80000| 18|\n|    11| Vikas| 75000| 16|\n|    18|   Sam| 65000| 17|\n|    13| Nidhi| 60000| 17|\n|    17| Raman| 55000| 16|\n|    10|  Anil| 50000| 18|\n|    15| Mohit| 45000| 18|\n|    12| Nisha| 40000| 18|\n+------+------+------+---+\n\n"
     ]
    }
   ],
   "source": [
    "dropped_manager_df.sort(col(\"salary\").desc()).show()"
   ]
  },
  {
   "cell_type": "code",
   "execution_count": 0,
   "metadata": {
    "application/vnd.databricks.v1+cell": {
     "cellMetadata": {
      "byteLimit": 2048000,
      "rowLimit": 10000
     },
     "inputWidgets": {},
     "nuid": "07812623-4571-4850-b828-26d54e8e675a",
     "showTitle": false,
     "tableResultSettingsMap": {},
     "title": ""
    }
   },
   "outputs": [
    {
     "output_type": "stream",
     "name": "stdout",
     "output_type": "stream",
     "text": [
      "+---+----+------+\n| id|name|ref_id|\n+---+----+------+\n|  1|Will|  NULL|\n|  2|Jane|  NULL|\n|  3|Alex|     2|\n|  4|Bill|  NULL|\n|  5|Zack|     1|\n|  6|Mark|     2|\n+---+----+------+\n\n"
     ]
    }
   ],
   "source": [
    "leet_code_data = [\n",
    "    (1, 'Will', None),\n",
    "    (2, 'Jane', None),\n",
    "    (3, 'Alex', 2),\n",
    "    (4, 'Bill', None),\n",
    "    (5, 'Zack', 1),\n",
    "    (6, 'Mark', 2)\n",
    "]\n",
    "\n",
    "# Define schema\n",
    "columns = [\"id\", \"name\", \"ref_id\"]\n",
    "\n",
    "# Create DataFrame\n",
    "df = spark.createDataFrame(leet_code_data, schema=columns)\n",
    "\n",
    "# Show the DataFrame\n",
    "df.show()\n"
   ]
  },
  {
   "cell_type": "code",
   "execution_count": 0,
   "metadata": {
    "application/vnd.databricks.v1+cell": {
     "cellMetadata": {
      "byteLimit": 2048000,
      "rowLimit": 10000
     },
     "inputWidgets": {},
     "nuid": "e6face18-aead-4a91-ac80-729f796131c7",
     "showTitle": false,
     "tableResultSettingsMap": {},
     "title": ""
    }
   },
   "outputs": [],
   "source": [
    "df.createOrReplaceTempView(\"df_table\")"
   ]
  },
  {
   "cell_type": "code",
   "execution_count": 0,
   "metadata": {
    "application/vnd.databricks.v1+cell": {
     "cellMetadata": {
      "byteLimit": 2048000,
      "rowLimit": 10000
     },
     "inputWidgets": {},
     "nuid": "336bcc4d-0043-4d1e-84d6-3c76b4120403",
     "showTitle": false,
     "tableResultSettingsMap": {},
     "title": ""
    }
   },
   "outputs": [
    {
     "output_type": "stream",
     "name": "stdout",
     "output_type": "stream",
     "text": [
      "+----+\n|name|\n+----+\n|Zack|\n+----+\n\n"
     ]
    }
   ],
   "source": [
    "spark.sql(\"\"\"\n",
    "    select name from df_table where ref_id !=2          \n",
    "\"\"\").show()"
   ]
  },
  {
   "cell_type": "code",
   "execution_count": 0,
   "metadata": {
    "application/vnd.databricks.v1+cell": {
     "cellMetadata": {
      "byteLimit": 2048000,
      "rowLimit": 10000
     },
     "inputWidgets": {},
     "nuid": "4c8b671c-41cb-4c77-9317-829150b8c0d5",
     "showTitle": false,
     "tableResultSettingsMap": {},
     "title": ""
    }
   },
   "outputs": [
    {
     "output_type": "stream",
     "name": "stdout",
     "output_type": "stream",
     "text": [
      "+----+\n|name|\n+----+\n|Zack|\n+----+\n\n"
     ]
    }
   ],
   "source": [
    "df.filter(col(\"ref_id\") != 2).select(\"name\").show()"
   ]
  }
 ],
 "metadata": {
  "application/vnd.databricks.v1+notebook": {
   "computePreferences": {
    "hardware": {
     "accelerator": null,
     "gpuPoolId": null,
     "memory": null
    }
   },
   "dashboards": [],
   "environmentMetadata": {
    "base_environment": "",
    "environment_version": "3"
   },
   "inputWidgetPreferences": null,
   "language": "python",
   "notebookMetadata": {
    "pythonIndentUnit": 4
   },
   "notebookName": "Unique and Sorted Records",
   "widgets": {}
  },
  "language_info": {
   "name": "python"
  }
 },
 "nbformat": 4,
 "nbformat_minor": 0
}
