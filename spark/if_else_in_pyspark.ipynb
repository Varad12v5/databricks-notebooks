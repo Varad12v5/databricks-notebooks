{
 "cells": [
  {
   "cell_type": "code",
   "execution_count": 0,
   "metadata": {
    "application/vnd.databricks.v1+cell": {
     "cellMetadata": {
      "byteLimit": 2048000,
      "rowLimit": 10000
     },
     "inputWidgets": {},
     "nuid": "09fcc25c-90e0-4e65-b787-e7eadc440703",
     "showTitle": false,
     "tableResultSettingsMap": {},
     "title": ""
    }
   },
   "outputs": [],
   "source": [
    "from pyspark.sql.functions import *\n",
    "from pyspark.sql.types import *"
   ]
  },
  {
   "cell_type": "code",
   "execution_count": 0,
   "metadata": {
    "application/vnd.databricks.v1+cell": {
     "cellMetadata": {
      "byteLimit": 2048000,
      "rowLimit": 10000
     },
     "inputWidgets": {},
     "nuid": "a4b2a22b-5cec-40e1-8c94-6cd6197356b3",
     "showTitle": false,
     "tableResultSettingsMap": {},
     "title": ""
    }
   },
   "outputs": [],
   "source": [
    "# Sample employee data\n",
    "emp_data = [\n",
    "    (1,'manish',26,20000,'india','IT'),\n",
    "    (2,'rahul',None,40000,'germany','engineering'),\n",
    "    (3,'pawan',12,60000,'india','sales'),\n",
    "    (4,'roshini',44,None,'uk','engineering'),\n",
    "    (5,'raushan',35,70000,'india','sales'),\n",
    "    (6,None,29,200000,'uk','IT'),\n",
    "    (7,'adam',37,65000,'us','IT'),\n",
    "    (8,'chris',16,40000,'us','sales'),\n",
    "    (None,None,None,None,None,None),\n",
    "    (7,'adam',37,65000,'us','IT')\n",
    "]\n",
    "\n",
    "# Define schema\n",
    "columns = [\"emp_id\", \"name\", \"age\", \"salary\", \"country\", \"department\"]\n",
    "\n",
    "# Create DataFrame\n",
    "df = spark.createDataFrame(emp_data, schema=columns)\n",
    "\n",
    "# Show the DataFrame\n",
    "df.show()\n"
   ]
  },
  {
   "cell_type": "code",
   "execution_count": 0,
   "metadata": {
    "application/vnd.databricks.v1+cell": {
     "cellMetadata": {
      "byteLimit": 2048000,
      "rowLimit": 10000
     },
     "inputWidgets": {},
     "nuid": "d2655834-676c-4c4b-8d07-d28b671ec65c",
     "showTitle": false,
     "tableResultSettingsMap": {},
     "title": ""
    }
   },
   "outputs": [],
   "source": [
    "df.withColumn(\"adult\",when(col(\"age\")<18,\"No\")\n",
    "                    .when(col(\"age\")>=18,\"Yes\")\n",
    "                    .otherwise(\"Novalue\")).show()"
   ]
  },
  {
   "cell_type": "code",
   "execution_count": 0,
   "metadata": {
    "application/vnd.databricks.v1+cell": {
     "cellMetadata": {
      "byteLimit": 2048000,
      "rowLimit": 10000
     },
     "inputWidgets": {},
     "nuid": "6fb7f736-a142-473a-b341-4739f15ff1f9",
     "showTitle": false,
     "tableResultSettingsMap": {},
     "title": ""
    }
   },
   "outputs": [],
   "source": [
    "df.withColumn(\"age\", when(col(\"age\").isNull(), lit(19)).otherwise(col(\"age\"))) \\\n",
    "       .withColumn(\"adult\", when(col(\"age\") > 18, \"Yes\").otherwise(\"No\")).show()\n"
   ]
  },
  {
   "cell_type": "code",
   "execution_count": 0,
   "metadata": {
    "application/vnd.databricks.v1+cell": {
     "cellMetadata": {
      "byteLimit": 2048000,
      "rowLimit": 10000
     },
     "inputWidgets": {},
     "nuid": "afe69a49-a99c-4f61-92e0-c8dcb52504f9",
     "showTitle": false,
     "tableResultSettingsMap": {},
     "title": ""
    }
   },
   "outputs": [],
   "source": [
    " df.withColumn(\"age_wise\", \n",
    "    when((col(\"age\") >= 0) & (col(\"age\") <= 18), \"minor\")\n",
    "    .when((col(\"age\") > 18) & (col(\"age\") <= 30), \"mid\")\n",
    "    .otherwise(\"old\")\n",
    ").show()\n"
   ]
  },
  {
   "cell_type": "code",
   "execution_count": 0,
   "metadata": {
    "application/vnd.databricks.v1+cell": {
     "cellMetadata": {
      "byteLimit": 2048000,
      "rowLimit": 10000
     },
     "inputWidgets": {},
     "nuid": "eb31d64f-e9c8-42a7-ab20-5845af6a2453",
     "showTitle": false,
     "tableResultSettingsMap": {},
     "title": ""
    }
   },
   "outputs": [],
   "source": [
    "df.createOrReplaceTempView(\"table\")"
   ]
  },
  {
   "cell_type": "code",
   "execution_count": 0,
   "metadata": {
    "application/vnd.databricks.v1+cell": {
     "cellMetadata": {
      "byteLimit": 2048000,
      "rowLimit": 10000
     },
     "inputWidgets": {},
     "nuid": "ff1979ba-4fe7-4ab3-a816-7acefab3b975",
     "showTitle": false,
     "tableResultSettingsMap": {},
     "title": ""
    }
   },
   "outputs": [],
   "source": [
    "spark.sql(\"\"\"\n",
    "        select *,\n",
    "        case when age<18 then 'minor' \n",
    "        when age >18 then 'major'\n",
    "        else 'novalue'\n",
    "        end as adult\n",
    "        from table    \n",
    "\"\"\").show()"
   ]
  },
  {
   "cell_type": "code",
   "execution_count": 0,
   "metadata": {
    "application/vnd.databricks.v1+cell": {
     "cellMetadata": {},
     "inputWidgets": {},
     "nuid": "ec4e3c56-adfb-40d8-9853-773006baa678",
     "showTitle": false,
     "tableResultSettingsMap": {},
     "title": ""
    }
   },
   "outputs": [],
   "source": []
  }
 ],
 "metadata": {
  "application/vnd.databricks.v1+notebook": {
   "computePreferences": {
    "hardware": {
     "accelerator": null,
     "gpuPoolId": null,
     "memory": null
    }
   },
   "dashboards": [],
   "environmentMetadata": {
    "base_environment": "",
    "environment_version": "3"
   },
   "inputWidgetPreferences": null,
   "language": "python",
   "notebookMetadata": {
    "pythonIndentUnit": 4
   },
   "notebookName": "if_else_in_pyspark",
   "widgets": {}
  },
  "language_info": {
   "name": "python"
  }
 },
 "nbformat": 4,
 "nbformat_minor": 0
}
